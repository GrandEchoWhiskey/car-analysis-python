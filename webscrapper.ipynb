{
 "cells": [
  {
   "cell_type": "markdown",
   "metadata": {},
   "source": [
    "This script scrapes car data from the website 'carsheet.io'.\n",
    "It fetches multiple pages of car listings, extracts relevant data,\n",
    "and saves it into CSV and Excel formats for further analysis.\n",
    "The process may take around 20 minutes due to the large number of pages."
   ]
  },
  {
   "cell_type": "code",
   "execution_count": 12,
   "metadata": {},
   "outputs": [],
   "source": [
    "from bs4 import BeautifulSoup as bs\n",
    "import requests as rq\n",
    "import pandas as pd"
   ]
  },
  {
   "cell_type": "code",
   "execution_count": 13,
   "metadata": {},
   "outputs": [
    {
     "name": "stdout",
     "output_type": "stream",
     "text": [
      "200\n",
      "200\n",
      "200\n"
     ]
    }
   ],
   "source": [
    "def get_website(n = 1):\n",
    "    if n == 1:\n",
    "        url = 'https://carsheet.io'\n",
    "    else:\n",
    "        url = f'https://carsheet.io/all-cars/{(n-1)*50}-{n*50}/'\n",
    "    website = rq.get(url)\n",
    "    return website\n",
    "\n",
    "for i in range(1, 4):\n",
    "    website = get_website(i)\n",
    "    print(website.status_code)"
   ]
  },
  {
   "cell_type": "code",
   "execution_count": 14,
   "metadata": {},
   "outputs": [
    {
     "name": "stdout",
     "output_type": "stream",
     "text": [
      "['Make', 'Model', 'Year', 'Trim', 'MSRP', 'Invoice Price', 'Used/New Price', 'Body Size', 'Body Style', 'Cylinders', 'Engine Aspiration', 'Drivetrain', 'Transmission', 'Horsepower', 'Torque', 'Highway Fuel Economy']\n"
     ]
    }
   ],
   "source": [
    "ws = bs(get_website().text, 'html.parser')\n",
    "rows = ws.find_all('tr')\n",
    "headers = rows[0].find_all('div')\n",
    "headers = [h.text for h in headers]\n",
    "print(headers)"
   ]
  },
  {
   "cell_type": "code",
   "execution_count": null,
   "metadata": {},
   "outputs": [],
   "source": [
    "data = []\n",
    "for i in range(1, 1307):\n",
    "    ws = bs(get_website(i).text, 'html.parser')\n",
    "    rows = ws.find_all('tr')\n",
    "    for row in rows:\n",
    "        cells = row.find_all('td')\n",
    "        cells = [c.text for c in cells]\n",
    "        if cells == []:\n",
    "            continue\n",
    "        data.append(cells)\n",
    "\n",
    "df = pd.DataFrame(data, columns = headers)\n",
    "df.to_csv('cars.csv')\n",
    "# it may take like 20 minutes to run this code"
   ]
  },
  {
   "cell_type": "code",
   "execution_count": 65,
   "metadata": {},
   "outputs": [],
   "source": [
    "dfn = pd.read_csv('cars.csv')\n",
    "dfn = dfn.drop(columns = ['Unnamed: 0'])\n",
    "dfn.to_excel('cars.xlsx')"
   ]
  }
 ],
 "metadata": {
  "kernelspec": {
   "display_name": "Python 3",
   "language": "python",
   "name": "python3"
  },
  "language_info": {
   "codemirror_mode": {
    "name": "ipython",
    "version": 3
   },
   "file_extension": ".py",
   "mimetype": "text/x-python",
   "name": "python",
   "nbconvert_exporter": "python",
   "pygments_lexer": "ipython3",
   "version": "3.11.3"
  }
 },
 "nbformat": 4,
 "nbformat_minor": 2
}
